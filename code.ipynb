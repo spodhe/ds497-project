{
 "cells": [
  {
   "cell_type": "code",
   "execution_count": 2,
   "metadata": {},
   "outputs": [
    {
     "name": "stdout",
     "output_type": "stream",
     "text": [
      "Working dir: /Users/sanskruti/Desktop/DS 497 PROJECT\n",
      "Dir contents: ['chatgpt.csv', 'code.ipynb', 'claude.csv', 'deepseek.csv']\n"
     ]
    },
    {
     "ename": "ModuleNotFoundError",
     "evalue": "No module named 'pandas'",
     "output_type": "error",
     "traceback": [
      "\u001b[0;31m---------------------------------------------------------------------------\u001b[0m",
      "\u001b[0;31mModuleNotFoundError\u001b[0m                       Traceback (most recent call last)",
      "Cell \u001b[0;32mIn[2], line 14\u001b[0m\n\u001b[1;32m      4\u001b[0m \u001b[38;5;28mprint\u001b[39m(\u001b[38;5;124m\"\u001b[39m\u001b[38;5;124mDir contents:\u001b[39m\u001b[38;5;124m\"\u001b[39m, os\u001b[38;5;241m.\u001b[39mlistdir())\n\u001b[1;32m      6\u001b[0m \u001b[38;5;66;03m# 2) If your CSVs aren’t listed here, change into the folder where VSCode put them.\u001b[39;00m\n\u001b[1;32m      7\u001b[0m \u001b[38;5;66;03m#    Adjust the string below to exactly match the path you see in your Explorer pane.\u001b[39;00m\n\u001b[1;32m      8\u001b[0m \u001b[38;5;66;03m#    For example, if your Explorer shows a folder named \"DS 497 PROJECT\" under the workspace root:\u001b[39;00m\n\u001b[0;32m   (...)\u001b[0m\n\u001b[1;32m     12\u001b[0m \u001b[38;5;66;03m# 3) Once you see chatgpt.csv, deepseek.csv, and claude.csv in the output above,\u001b[39;00m\n\u001b[1;32m     13\u001b[0m \u001b[38;5;66;03m#    you can safely read them:\u001b[39;00m\n\u001b[0;32m---> 14\u001b[0m \u001b[38;5;28;01mimport\u001b[39;00m\u001b[38;5;250m \u001b[39m\u001b[38;5;21;01mpandas\u001b[39;00m\u001b[38;5;250m \u001b[39m\u001b[38;5;28;01mas\u001b[39;00m\u001b[38;5;250m \u001b[39m\u001b[38;5;21;01mpd\u001b[39;00m\n\u001b[1;32m     15\u001b[0m chat \u001b[38;5;241m=\u001b[39m pd\u001b[38;5;241m.\u001b[39mread_csv(\u001b[38;5;124m\"\u001b[39m\u001b[38;5;124mchatgpt.csv\u001b[39m\u001b[38;5;124m\"\u001b[39m)\n\u001b[1;32m     16\u001b[0m deep  \u001b[38;5;241m=\u001b[39m pd\u001b[38;5;241m.\u001b[39mread_csv(\u001b[38;5;124m\"\u001b[39m\u001b[38;5;124mdeepseek.csv\u001b[39m\u001b[38;5;124m\"\u001b[39m)\n",
      "\u001b[0;31mModuleNotFoundError\u001b[0m: No module named 'pandas'"
     ]
    }
   ],
   "source": [
    "# 1) Check where you are and what files you see\n",
    "import os\n",
    "print(\"Working dir:\", os.getcwd())\n",
    "print(\"Dir contents:\", os.listdir())\n",
    "\n",
    "# 2) If your CSVs aren’t listed here, change into the folder where VSCode put them.\n",
    "#    Adjust the string below to exactly match the path you see in your Explorer pane.\n",
    "#    For example, if your Explorer shows a folder named \"DS 497 PROJECT\" under the workspace root:\n",
    "# os.chdir(\"DS 497 PROJECT\")\n",
    "# print(\"Now in:\", os.getcwd(), os.listdir())\n",
    "\n",
    "# 3) Once you see chatgpt.csv, deepseek.csv, and claude.csv in the output above,\n",
    "#    you can safely read them:\n",
    "import pandas as pd\n",
    "chat = pd.read_csv(\"chatgpt.csv\")\n",
    "deep  = pd.read_csv(\"deepseek.csv\")\n",
    "claude= pd.read_csv(\"claude.csv\")\n",
    "\n",
    "# 4) Then tag and combine:\n",
    "chat[\"model\"]  = \"ChatGPT\"\n",
    "deep[\"model\"]  = \"Deepseek\"\n",
    "claude[\"model\"]= \"Claude\"\n",
    "df = pd.concat([chat, deep, claude], ignore_index=True)\n",
    "\n",
    "# ...and continue with your analyses.\n"
   ]
  }
 ],
 "metadata": {
  "kernelspec": {
   "display_name": "Python 3",
   "language": "python",
   "name": "python3"
  },
  "language_info": {
   "codemirror_mode": {
    "name": "ipython",
    "version": 3
   },
   "file_extension": ".py",
   "mimetype": "text/x-python",
   "name": "python",
   "nbconvert_exporter": "python",
   "pygments_lexer": "ipython3",
   "version": "3.9.6"
  }
 },
 "nbformat": 4,
 "nbformat_minor": 2
}
